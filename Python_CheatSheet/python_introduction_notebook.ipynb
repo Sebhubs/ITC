{
 "cells": [
  {
   "cell_type": "markdown",
   "id": "8ba8132f",
   "metadata": {},
   "source": [
    "# Using the Python Interpreter\n",
    "\n",
    "Details about using the Python interpreter."
   ]
  },
  {
   "cell_type": "code",
   "execution_count": null,
   "id": "db863ed9",
   "metadata": {},
   "outputs": [],
   "source": [
    "import sys\n",
    "print('Hello, Python!')"
   ]
  },
  {
   "cell_type": "markdown",
   "id": "7ef03411",
   "metadata": {},
   "source": [
    "# An Informal Introduction to Python\n",
    "\n",
    "Some basic Python operations."
   ]
  },
  {
   "cell_type": "code",
   "execution_count": null,
   "id": "dd91f320",
   "metadata": {},
   "outputs": [],
   "source": [
    "print(2 + 2)\n",
    "print(50 - 5*6)"
   ]
  },
  {
   "cell_type": "markdown",
   "id": "903bc814",
   "metadata": {},
   "source": [
    "# More Control Flow Tools\n",
    "\n",
    "Introduction to control flow tools like `if` statements and `for` loops."
   ]
  },
  {
   "cell_type": "code",
   "execution_count": null,
   "id": "9158a4fd",
   "metadata": {},
   "outputs": [],
   "source": [
    "for i in range(5):\n",
    "    print(i)"
   ]
  }
 ],
 "metadata": {},
 "nbformat": 4,
 "nbformat_minor": 5
}
